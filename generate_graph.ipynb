{
 "cells": [
  {
   "cell_type": "code",
   "execution_count": 2,
   "metadata": {},
   "outputs": [],
   "source": [
    "#! /usr/bin/python3 \n",
    "import tensorflow as tf \n",
    "tf.enable_eager_execution()\n",
    "import numpy as np \n",
    "from util import save2img\n",
    "import imageio\n",
    "import sys, os, time, argparse, shutil, scipy, h5py, glob\n",
    "from models import tomogan_disc as make_discriminator_model  # import a disc model\n",
    "from models import unet as make_generator_model           # import a generator model\n",
    "from data_processor import bkgdGen, gen_train_batch_bg, get1batch4test\n",
    "\n",
    "tf.logging.set_verbosity(tf.logging.ERROR)"
   ]
  },
  {
   "cell_type": "code",
   "execution_count": 5,
   "metadata": {},
   "outputs": [],
   "source": [
    "args = {}\n",
    "args['gpus'] = \"0\"\n",
    "args['weights'] =\"test-last-model.h5\"\n",
    "args['resfolder'] =\"test-last-model.h5\"\n",
    "args['lmse'] =0.5\n",
    "args['lperc'] =2.0\n",
    "args['ladv'] =20\n",
    "args['lunet'] =3\n",
    "args['depth'] =3\n",
    "args['itg'] =1\n",
    "args['itd'] =2"
   ]
  },
  {
   "cell_type": "code",
   "execution_count": 7,
   "metadata": {},
   "outputs": [],
   "source": [
    "os.environ['CUDA_VISIBLE_DEVICES'] = args['gpus'] #args.gpus\n",
    "os.environ['TF_CPP_MIN_LOG_LEVEL'] = '3' # disable printing INFO, WARNING, and ERROR"
   ]
  },
  {
   "cell_type": "code",
   "execution_count": 8,
   "metadata": {},
   "outputs": [],
   "source": [
    "config = tf.ConfigProto()\n",
    "config.gpu_options.allow_growth = True\n",
    "config.gpu_options.per_process_gpu_memory_fraction = 0.99\n",
    "sess = tf.Session(config = config)\n",
    "tf.keras.backend.set_session(sess)"
   ]
  },
  {
   "cell_type": "code",
   "execution_count": 10,
   "metadata": {},
   "outputs": [],
   "source": [
    "mb_size = 16\n",
    "img_size = 256\n",
    "in_depth = args['depth'] #args.depth\n",
    "disc_iters, gene_iters = args['itd'], args['itg'] #args.itd, args.itg\n",
    "lambda_mse, lambda_adv, lambda_perc = args['lmse'], args['ladv'], args['lperc'] #args.lmse, args.ladv, args.lperc"
   ]
  },
  {
   "cell_type": "code",
   "execution_count": 12,
   "metadata": {},
   "outputs": [],
   "source": [
    "res_dir = 'graphs/'+ args['resfolder'] #args.resfolder"
   ]
  },
  {
   "cell_type": "code",
   "execution_count": 14,
   "metadata": {},
   "outputs": [
    {
     "name": "stdout",
     "output_type": "stream",
     "text": [
      "(?, ?, ?, 128)\n",
      "(?, ?, ?, 128)\n",
      "(?, ?, ?, 64)\n",
      "(?, ?, ?, 64)\n",
      "(?, ?, ?, 32)\n",
      "(?, ?, ?, 32)\n"
     ]
    }
   ],
   "source": [
    "generator = make_generator_model(input_shape=(None, None, in_depth), nlayers=args['lunet']) #nlayers=args.lunet ) \n",
    "discriminator = make_discriminator_model(input_shape=(img_size, img_size, 1))"
   ]
  },
  {
   "cell_type": "code",
   "execution_count": 15,
   "metadata": {},
   "outputs": [],
   "source": [
    "feature_extractor_vgg = tf.keras.applications.VGG19(\\\n",
    "                        weights='vgg19_weights_notop.h5', \\\n",
    "                        include_top=False)"
   ]
  },
  {
   "cell_type": "code",
   "execution_count": null,
   "metadata": {},
   "outputs": [],
   "source": [
    "generator.load_weights(args.weights)\n",
    "samples = ['s1','s2','s3']\n",
    "p_noisy = ['10','15','20','25'] # # 0% is GT (clean) and the rest are noisy inputs\n",
    "frame_count = 279 # number of frames per case\n",
    "denoise_mse = []\n",
    "noisy_mse = []\n",
    "denoise_snr = []\n",
    "noisy_snr = []\n",
    "for s in samples:\n",
    "    for p in p_noisy:\n",
    "        denoised_writer = imageio.get_writer(res_dir+'/'+s+'_'+p+'_denoised.mp4', fps=50)\n",
    "        noisy_writer = imageio.get_writer(res_dir+'/'+s+'_'+p+'_noisy.mp4', fps=50)\n",
    "        for i in range(frame_count):\n",
    "            file_name = 'dataset/frames_1024/'+s+'_'+p+'_'+str(i+1).zfill(3)+'_1024x1024.jpg'\n",
    "            im = imageio.imread(file_name)\n",
    "            np_im = np.array(im)\n",
    "            np_im = np.expand_dims(np_im,axis = 0)\n",
    "            pred_img = generator.predict(np_im)\n",
    "            denoised = pred_img[0,:,:,0]\n",
    "            #np_gt_im = (np_gt_im - np.min(np_gt_im)) / (np.max(np_gt_im) - np.min(np_gt_im))\n",
    "            denoised = (denoised - np.min(denoised)) / (np.max(denoised) - np.min(denoised))\n",
    "            #np_im = np_im[0,:,:,0]\n",
    "            #np_im = (np_im - np.min(np_im)) / (np.max(np_im) - np.min(np_im))\n",
    "            #denoise_frames.append(denoised)\n",
    "            #noisy_frames.append(np_im)\n",
    "            #gt_frames.append(np_gt_im)\n",
    "            denoised_writer.append_data(denoised)\n",
    "            #noisy_writer.append_data(np_im)\n",
    "            #save2img(denoised, '%s/frames/denoised_%03d.png' % (res_dir,i))\n",
    "            #save2img(y222[0,:,:,0], '%s/frames/gtruth_%03d.png' % (res_dir,i))\n",
    "            #save2img(X222[0,:,:,in_depth//2], '%s/frames/noisy_%03d.png' % (res_dir,i))\n",
    "        denoised_writer.close()\n",
    "        #noisy_writer.close()\n",
    "        #imageio.mimsave(res_dir+'/'+s+'_gt.gif', gt_frames)\n",
    "        #imageio.mimsave(res_dir+'/'+s+'_'+p+'_denoised.gif', denoise_frames)\n",
    "        #imageio.mimsave(res_dir+'/'+s+'_'+p+'_noisy.gif', noisy_frames)"
   ]
  }
 ],
 "metadata": {
  "kernelspec": {
   "display_name": "Python 3",
   "language": "python",
   "name": "python3"
  },
  "language_info": {
   "codemirror_mode": {
    "name": "ipython",
    "version": 3
   },
   "file_extension": ".py",
   "mimetype": "text/x-python",
   "name": "python",
   "nbconvert_exporter": "python",
   "pygments_lexer": "ipython3",
   "version": "3.6.8"
  }
 },
 "nbformat": 4,
 "nbformat_minor": 2
}
