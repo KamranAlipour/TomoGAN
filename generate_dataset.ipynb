{
 "cells": [
  {
   "cell_type": "code",
   "execution_count": 1,
   "metadata": {},
   "outputs": [],
   "source": [
    "import imageio\n",
    "import h5py\n",
    "import numpy as np"
   ]
  },
  {
   "cell_type": "code",
   "execution_count": 2,
   "metadata": {},
   "outputs": [],
   "source": [
    "samples = ['s1','s2','s3']\n",
    "p_noisy = ['0','10','15','20','25'] # # 0% is GT (clean) and the rest are noisy inputs\n",
    "frame_count = 279 # number of frames per case"
   ]
  },
  {
   "cell_type": "code",
   "execution_count": 3,
   "metadata": {},
   "outputs": [
    {
     "ename": "FileNotFoundError",
     "evalue": "No such file: '/home/phacou/tomoGAN/TomoGAN/dataset/frames_1024/s1_0_001_1024x1024.jpg'",
     "output_type": "error",
     "traceback": [
      "\u001b[0;31m---------------------------------------------------------------------------\u001b[0m",
      "\u001b[0;31mFileNotFoundError\u001b[0m                         Traceback (most recent call last)",
      "\u001b[0;32m<ipython-input-3-285fd7dcba74>\u001b[0m in \u001b[0;36m<module>\u001b[0;34m\u001b[0m\n\u001b[1;32m      7\u001b[0m             \u001b[0mfile_name\u001b[0m \u001b[0;34m=\u001b[0m \u001b[0;34m'dataset/frames_1024/'\u001b[0m\u001b[0;34m+\u001b[0m\u001b[0ms\u001b[0m\u001b[0;34m+\u001b[0m\u001b[0;34m'_'\u001b[0m\u001b[0;34m+\u001b[0m\u001b[0mp\u001b[0m\u001b[0;34m+\u001b[0m\u001b[0;34m'_'\u001b[0m\u001b[0;34m+\u001b[0m\u001b[0mstr\u001b[0m\u001b[0;34m(\u001b[0m\u001b[0mi\u001b[0m\u001b[0;34m+\u001b[0m\u001b[0;36m1\u001b[0m\u001b[0;34m)\u001b[0m\u001b[0;34m.\u001b[0m\u001b[0mzfill\u001b[0m\u001b[0;34m(\u001b[0m\u001b[0;36m3\u001b[0m\u001b[0;34m)\u001b[0m\u001b[0;34m+\u001b[0m\u001b[0;34m'_1024x1024.jpg'\u001b[0m\u001b[0;34m\u001b[0m\u001b[0;34m\u001b[0m\u001b[0m\n\u001b[1;32m      8\u001b[0m             \u001b[0;31m#print(file_name)\u001b[0m\u001b[0;34m\u001b[0m\u001b[0;34m\u001b[0m\u001b[0;34m\u001b[0m\u001b[0m\n\u001b[0;32m----> 9\u001b[0;31m             \u001b[0mim\u001b[0m \u001b[0;34m=\u001b[0m \u001b[0mimageio\u001b[0m\u001b[0;34m.\u001b[0m\u001b[0mimread\u001b[0m\u001b[0;34m(\u001b[0m\u001b[0mfile_name\u001b[0m\u001b[0;34m)\u001b[0m\u001b[0;34m\u001b[0m\u001b[0;34m\u001b[0m\u001b[0m\n\u001b[0m\u001b[1;32m     10\u001b[0m             \u001b[0mnp_im\u001b[0m \u001b[0;34m=\u001b[0m \u001b[0mnp\u001b[0m\u001b[0;34m.\u001b[0m\u001b[0marray\u001b[0m\u001b[0;34m(\u001b[0m\u001b[0mim\u001b[0m\u001b[0;34m)\u001b[0m\u001b[0;34m\u001b[0m\u001b[0;34m\u001b[0m\u001b[0m\n\u001b[1;32m     11\u001b[0m             \u001b[0;31m#np_im = np.transpose(np_im,(2,0,1))\u001b[0m\u001b[0;34m\u001b[0m\u001b[0;34m\u001b[0m\u001b[0;34m\u001b[0m\u001b[0m\n",
      "\u001b[0;32m/usr/local/lib/python3.6/dist-packages/imageio/core/functions.py\u001b[0m in \u001b[0;36mimread\u001b[0;34m(uri, format, **kwargs)\u001b[0m\n\u001b[1;32m    262\u001b[0m \u001b[0;34m\u001b[0m\u001b[0m\n\u001b[1;32m    263\u001b[0m     \u001b[0;31m# Get reader and read first\u001b[0m\u001b[0;34m\u001b[0m\u001b[0;34m\u001b[0m\u001b[0;34m\u001b[0m\u001b[0m\n\u001b[0;32m--> 264\u001b[0;31m     \u001b[0mreader\u001b[0m \u001b[0;34m=\u001b[0m \u001b[0mread\u001b[0m\u001b[0;34m(\u001b[0m\u001b[0muri\u001b[0m\u001b[0;34m,\u001b[0m \u001b[0mformat\u001b[0m\u001b[0;34m,\u001b[0m \u001b[0;34m\"i\"\u001b[0m\u001b[0;34m,\u001b[0m \u001b[0;34m**\u001b[0m\u001b[0mkwargs\u001b[0m\u001b[0;34m)\u001b[0m\u001b[0;34m\u001b[0m\u001b[0;34m\u001b[0m\u001b[0m\n\u001b[0m\u001b[1;32m    265\u001b[0m     \u001b[0;32mwith\u001b[0m \u001b[0mreader\u001b[0m\u001b[0;34m:\u001b[0m\u001b[0;34m\u001b[0m\u001b[0;34m\u001b[0m\u001b[0m\n\u001b[1;32m    266\u001b[0m         \u001b[0;32mreturn\u001b[0m \u001b[0mreader\u001b[0m\u001b[0;34m.\u001b[0m\u001b[0mget_data\u001b[0m\u001b[0;34m(\u001b[0m\u001b[0;36m0\u001b[0m\u001b[0;34m)\u001b[0m\u001b[0;34m\u001b[0m\u001b[0;34m\u001b[0m\u001b[0m\n",
      "\u001b[0;32m/usr/local/lib/python3.6/dist-packages/imageio/core/functions.py\u001b[0m in \u001b[0;36mget_reader\u001b[0;34m(uri, format, mode, **kwargs)\u001b[0m\n\u001b[1;32m    171\u001b[0m \u001b[0;34m\u001b[0m\u001b[0m\n\u001b[1;32m    172\u001b[0m     \u001b[0;31m# Create request object\u001b[0m\u001b[0;34m\u001b[0m\u001b[0;34m\u001b[0m\u001b[0;34m\u001b[0m\u001b[0m\n\u001b[0;32m--> 173\u001b[0;31m     \u001b[0mrequest\u001b[0m \u001b[0;34m=\u001b[0m \u001b[0mRequest\u001b[0m\u001b[0;34m(\u001b[0m\u001b[0muri\u001b[0m\u001b[0;34m,\u001b[0m \u001b[0;34m\"r\"\u001b[0m \u001b[0;34m+\u001b[0m \u001b[0mmode\u001b[0m\u001b[0;34m,\u001b[0m \u001b[0;34m**\u001b[0m\u001b[0mkwargs\u001b[0m\u001b[0;34m)\u001b[0m\u001b[0;34m\u001b[0m\u001b[0;34m\u001b[0m\u001b[0m\n\u001b[0m\u001b[1;32m    174\u001b[0m \u001b[0;34m\u001b[0m\u001b[0m\n\u001b[1;32m    175\u001b[0m     \u001b[0;31m# Get format\u001b[0m\u001b[0;34m\u001b[0m\u001b[0;34m\u001b[0m\u001b[0;34m\u001b[0m\u001b[0m\n",
      "\u001b[0;32m/usr/local/lib/python3.6/dist-packages/imageio/core/request.py\u001b[0m in \u001b[0;36m__init__\u001b[0;34m(self, uri, mode, **kwargs)\u001b[0m\n\u001b[1;32m    124\u001b[0m \u001b[0;34m\u001b[0m\u001b[0m\n\u001b[1;32m    125\u001b[0m         \u001b[0;31m# Parse what was given\u001b[0m\u001b[0;34m\u001b[0m\u001b[0;34m\u001b[0m\u001b[0;34m\u001b[0m\u001b[0m\n\u001b[0;32m--> 126\u001b[0;31m         \u001b[0mself\u001b[0m\u001b[0;34m.\u001b[0m\u001b[0m_parse_uri\u001b[0m\u001b[0;34m(\u001b[0m\u001b[0muri\u001b[0m\u001b[0;34m)\u001b[0m\u001b[0;34m\u001b[0m\u001b[0;34m\u001b[0m\u001b[0m\n\u001b[0m\u001b[1;32m    127\u001b[0m \u001b[0;34m\u001b[0m\u001b[0m\n\u001b[1;32m    128\u001b[0m         \u001b[0;31m# Set extension\u001b[0m\u001b[0;34m\u001b[0m\u001b[0;34m\u001b[0m\u001b[0;34m\u001b[0m\u001b[0m\n",
      "\u001b[0;32m/usr/local/lib/python3.6/dist-packages/imageio/core/request.py\u001b[0m in \u001b[0;36m_parse_uri\u001b[0;34m(self, uri)\u001b[0m\n\u001b[1;32m    276\u001b[0m                 \u001b[0;31m# Reading: check that the file exists (but is allowed a dir)\u001b[0m\u001b[0;34m\u001b[0m\u001b[0;34m\u001b[0m\u001b[0;34m\u001b[0m\u001b[0m\n\u001b[1;32m    277\u001b[0m                 \u001b[0;32mif\u001b[0m \u001b[0;32mnot\u001b[0m \u001b[0mos\u001b[0m\u001b[0;34m.\u001b[0m\u001b[0mpath\u001b[0m\u001b[0;34m.\u001b[0m\u001b[0mexists\u001b[0m\u001b[0;34m(\u001b[0m\u001b[0mfn\u001b[0m\u001b[0;34m)\u001b[0m\u001b[0;34m:\u001b[0m\u001b[0;34m\u001b[0m\u001b[0;34m\u001b[0m\u001b[0m\n\u001b[0;32m--> 278\u001b[0;31m                     \u001b[0;32mraise\u001b[0m \u001b[0mFileNotFoundError\u001b[0m\u001b[0;34m(\u001b[0m\u001b[0;34m\"No such file: '%s'\"\u001b[0m \u001b[0;34m%\u001b[0m \u001b[0mfn\u001b[0m\u001b[0;34m)\u001b[0m\u001b[0;34m\u001b[0m\u001b[0;34m\u001b[0m\u001b[0m\n\u001b[0m\u001b[1;32m    279\u001b[0m             \u001b[0;32melse\u001b[0m\u001b[0;34m:\u001b[0m\u001b[0;34m\u001b[0m\u001b[0;34m\u001b[0m\u001b[0m\n\u001b[1;32m    280\u001b[0m                 \u001b[0;31m# Writing: check that the directory to write to does exist\u001b[0m\u001b[0;34m\u001b[0m\u001b[0;34m\u001b[0m\u001b[0;34m\u001b[0m\u001b[0m\n",
      "\u001b[0;31mFileNotFoundError\u001b[0m: No such file: '/home/phacou/tomoGAN/TomoGAN/dataset/frames_1024/s1_0_001_1024x1024.jpg'"
     ]
    }
   ],
   "source": [
    "#loaded_data = None\n",
    "for s in samples:\n",
    "    loaded_sample = None\n",
    "    for i in range(frame_count):\n",
    "        loaded_frame = None\n",
    "        for p in p_noisy:\n",
    "            file_name = 'dataset/frames_1024/'+s+'_'+p+'_'+str(i+1).zfill(3)+'_1024x1024.jpg'\n",
    "            #print(file_name)\n",
    "            im = imageio.imread(file_name)\n",
    "            np_im = np.array(im)\n",
    "            #np_im = np.transpose(np_im,(2,0,1))\n",
    "            np_im = np.expand_dims(np_im,axis = 0)\n",
    "            #print(np_im.shape)\n",
    "        if (loaded_frame is None):\n",
    "            loaded_frame = np_im\n",
    "        else:\n",
    "            loaded_frame = np.append(loaded_frame,np_im,axis=0)\n",
    "        #print(loaded_frame.shape)\n",
    "        loaded_frame = np.expand_dims(loaded_frame,axis = 0)\n",
    "        if (loaded_sample is None):\n",
    "            loaded_sample = loaded_frame\n",
    "        else:\n",
    "            loaded_sample = np.append(loaded_sample,loaded_frame,axis=0)\n",
    "    #print(loaded_sample.shape)\n",
    "    loaded_sample = np.expand_dims(loaded_sample,axis = 0)\n",
    "    hf = h5py.File('dataset/data_'+s+'_1024x1024.h5', 'w') # (frame,noise,width,height,channel)\n",
    "    hf.create_dataset('images', data=loaded_sample) \n",
    "    hf.close()\n",
    "#    if (loaded_data is None):\n",
    "#        loaded_data = loaded_sample\n",
    "#    else:\n",
    "#        loaded_data = np.append(loaded_data,loaded_sample,axis=0)\n",
    "#print(loaded_data.shape)\n",
    "# (sample,frame,noise,width,height,channel)\n",
    "#hf = h5py.File('dataset/alldata_1024x1024.h5', 'w')\n",
    "#hf.create_dataset('images', data=loaded_data)\n",
    "#hf.close()"
   ]
  },
  {
   "cell_type": "code",
   "execution_count": null,
   "metadata": {},
   "outputs": [],
   "source": [
    "# train and test data only based on samples s2 & s3\n",
    "train_split = 0.8\n",
    "train_data = None\n",
    "test_data = None\n",
    "\n",
    "for s in ['s2','s3']: # ignore s1 for now\n",
    "    f = h5py.File(\"dataset/data_\"+s+\"_1024x1024.h5\", \"r\")\n",
    "    all_data = f['images']\n",
    "    frame_range = np.arange(frame_count) # frame indices for all samples\n",
    "    np.random.shuffle(frame_range)\n",
    "    train_range = frame_range[:int(frame_count *  train_split)]\n",
    "    train_range = np.sort(train_range)\n",
    "    test_range = frame_range[int(frame_count *  train_split):]\n",
    "    test_range = np.sort(test_range)\n",
    "    print(all_data.shape)\n",
    "    if (train_data is None):\n",
    "        train_data = all_data[0,train_range,:,:,:,:]\n",
    "    else:\n",
    "        train_data = np.append(train_data,all_data[0,train_range,:,:,:,:],axis=0)\n",
    "    if (test_data is None):\n",
    "        test_data = all_data[0,test_range,:,:,:,:]\n",
    "    else:\n",
    "        test_data = np.append(test_data,all_data[0,test_range,:,:,:,:],axis=0)\n",
    "    f.close()\n",
    "train_data = np.transpose(train_data,(0,1,4,2,3)) # (frame,noise,channel,height,width)\n",
    "test_data  = np.transpose(test_data,(0,1,4,2,3))"
   ]
  },
  {
   "cell_type": "code",
   "execution_count": null,
   "metadata": {},
   "outputs": [],
   "source": [
    "data_train = {}\n",
    "data_test = {}\n",
    "for i,n in enumerate([0,10,15,20,25]): # n% noise, 0 for clean data, ground_truth\n",
    "    tr_data = train_data[:,i,:,:,:]\n",
    "    te_data = test_data[:,i,:,:,:]\n",
    "    tr_data_flat = np.reshape(tr_data,(tr_data.shape[0]*tr_data.shape[1],tr_data.shape[2],tr_data.shape[3]))\n",
    "    te_data_flat = np.reshape(te_data,(te_data.shape[0]*te_data.shape[1],te_data.shape[2],te_data.shape[3]))\n",
    "    data_train[n]  =  tr_data_flat\n",
    "    data_test[n] = te_data_flat"
   ]
  },
  {
   "cell_type": "code",
   "execution_count": null,
   "metadata": {},
   "outputs": [],
   "source": [
    "hf = h5py.File('dataset/clean4train_s2_s3_80.h5', 'w')\n",
    "hf.create_dataset('images', data=data_train[0])\n",
    "hf.close()\n",
    "\n",
    "hf = h5py.File('dataset/clean4test_s2_s3_20.h5', 'w')\n",
    "hf.create_dataset('images', data=data_test[0])\n",
    "hf.close()\n",
    "\n",
    "for n in [10,15,20,25]:\n",
    "    hf = h5py.File('dataset/noisy4train_n'+str(n)+'_s2_s3_80.h5', 'w')\n",
    "    hf.create_dataset('images', data=data_train[n])\n",
    "    hf.close()\n",
    "\n",
    "    hf = h5py.File('dataset/noisy4test_n'+str(n)+'_s2_s3_20.h5', 'w')\n",
    "    hf.create_dataset('images', data=data_test[n])\n",
    "    hf.close()"
   ]
  },
  {
   "cell_type": "code",
   "execution_count": null,
   "metadata": {},
   "outputs": [],
   "source": []
  }
 ],
 "metadata": {
  "kernelspec": {
   "display_name": "Python 3",
   "language": "python",
   "name": "python3"
  },
  "language_info": {
   "codemirror_mode": {
    "name": "ipython",
    "version": 3
   },
   "file_extension": ".py",
   "mimetype": "text/x-python",
   "name": "python",
   "nbconvert_exporter": "python",
   "pygments_lexer": "ipython3",
   "version": "3.6.8"
  }
 },
 "nbformat": 4,
 "nbformat_minor": 2
}
